{
 "cells": [
  {
   "cell_type": "markdown",
   "id": "4636878c-80f1-43b5-bff7-7136735514fc",
   "metadata": {},
   "source": [
    "# 东方财富 > 公司概况 > 基本资料"
   ]
  },
  {
   "cell_type": "markdown",
   "id": "a40224e2-42d5-4219-a12d-d7c12f5a9ab7",
   "metadata": {},
   "source": [
    "## 接口概况\n",
    "\n",
    "以飞沃科技（301232.SZ）为例：\n",
    "\n",
    "- 页面：<https://emweb.securities.eastmoney.com/pc_hsf10/pages/index.html?type=web&code=SZ301232&color=b#/gsgk>"
   ]
  },
  {
   "cell_type": "markdown",
   "id": "ff7d2a0f-dff3-48b3-ac77-f11414649053",
   "metadata": {},
   "source": [
    "## 接口分析\n",
    "\n",
    "### 接口发现\n",
    "\n",
    "使用关键词方法，例如搜索「通用设备制造业」可以找到相关 JSON 请求一条。\n",
    "\n",
    "从浏览器复制该请求为 fetch 格式如下："
   ]
  },
  {
   "cell_type": "code",
   "execution_count": 1,
   "id": "bfd48ed3-731c-46c2-9c43-c25d76352675",
   "metadata": {},
   "outputs": [
    {
     "data": {
      "text/plain": [
       "{\n",
       "  version: \u001b[32m\"5eb211e4417313474e474763000b3605\"\u001b[39m,\n",
       "  result: {\n",
       "    pages: \u001b[33m1\u001b[39m,\n",
       "    data: [\n",
       "      {\n",
       "        SECUCODE: \u001b[32m\"301232.SZ\"\u001b[39m,\n",
       "        SECURITY_CODE: \u001b[32m\"301232\"\u001b[39m,\n",
       "        SECURITY_NAME_ABBR: \u001b[32m\"飞沃科技\"\u001b[39m,\n",
       "        ORG_CODE: \u001b[32m\"10439816\"\u001b[39m,\n",
       "        ORG_NAME: \u001b[32m\"湖南飞沃新能源科技股份有限公司\"\u001b[39m,\n",
       "        ORG_NAME_EN: \u001b[32m\"Finework(HuNan) NewEnergyTechnologyCo.,Ltd.\"\u001b[39m,\n",
       "        FORMERNAME: \u001b[1mnull\u001b[22m,\n",
       "        STR_CODEA: \u001b[32m\"301232\"\u001b[39m,\n",
       "        STR_NAMEA: \u001b[32m\"飞沃科技\"\u001b[39m,\n",
       "        STR_CODEB: \u001b[1mnull\u001b[22m,\n",
       "        STR_NAMEB: \u001b[1mnull\u001b[22m,\n",
       "        STR_CODEH: \u001b[1mnull\u001b[22m,\n",
       "        STR_NAMEH: \u001b[1mnull\u001b[22m,\n",
       "        SECURITY_TYPE: \u001b[32m\"深交所创业板A股\"\u001b[39m,\n",
       "        EM2016: \u001b[32m\"机械设备-金属制品-金属制品\"\u001b[39m,\n",
       "        TRADE_MARKET: \u001b[32m\"深圳证券交易所\"\u001b[39m,\n",
       "        INDUSTRYCSRC1: \u001b[32m\"制造业-通用设备制造业\"\u001b[39m,\n",
       "        PRESIDENT: \u001b[32m\"刘杰\"\u001b[39m,\n",
       "        LEGAL_PERSON: \u001b[32m\"张友君\"\u001b[39m,\n",
       "        SECRETARY: \u001b[32m\"刘志军\"\u001b[39m,\n",
       "        CHAIRMAN: \u001b[32m\"张友君\"\u001b[39m,\n",
       "        SECPRESENT: \u001b[32m\"陈柯臻\"\u001b[39m,\n",
       "        INDEDIRECTORS: \u001b[32m\"单飞跃,夏劲松,张雷\"\u001b[39m,\n",
       "        ORG_TEL: \u001b[32m\"0736-6689769\"\u001b[39m,\n",
       "        ORG_EMAIL: \u001b[32m\"fwdongmiban@shfinework.cn\"\u001b[39m,\n",
       "        ORG_FAX: \u001b[32m\"0736-6676869\"\u001b[39m,\n",
       "        ORG_WEB: \u001b[32m\"www.shfinework.cn\"\u001b[39m,\n",
       "        ADDRESS: \u001b[32m\"湖南省常德市桃源县陬市镇东新路\"\u001b[39m,\n",
       "        REG_ADDRESS: \u001b[32m\"常德市桃源县陬市镇观音桥村二组(大华工业园内)\"\u001b[39m,\n",
       "        PROVINCE: \u001b[32m\"湖南\"\u001b[39m,\n",
       "        ADDRESS_POSTCODE: \u001b[32m\"415701\"\u001b[39m,\n",
       "        REG_CAPITAL: \u001b[33m7516.2347\u001b[39m,\n",
       "        REG_NUM: \u001b[32m\"914307255994397053\"\u001b[39m,\n",
       "        EMP_NUM: \u001b[33m2222\u001b[39m,\n",
       "        TATOLNUMBER: \u001b[33m15\u001b[39m,\n",
       "        LAW_FIRM: \u001b[32m\"湖南启元律师事务所\"\u001b[39m,\n",
       "        ACCOUNTFIRM_NAME: \u001b[32m\"天健会计师事务所(特殊普通合伙)\"\u001b[39m,\n",
       "        ORG_PROFILE: \u001b[32m\"    湖南飞沃新能源科技股份有限公司(简称“飞沃科技”,股票代码:301232),成立于2012年,是一家专注于高端高强度紧固件研发与制造,并提供紧固系统解决方案的国家高新技术企业。产品广泛应用于风电、航空航天、燃气轮机、石油、汽车、高铁及工程机械等高端装备领域。飞沃科技生产的风机叶片预埋螺套、机舱螺栓、塔筒螺栓、锚栓组件等风电全系列紧固件,已经成为全球风电紧固件行业龙头企业。同时,公司不断拓宽业务,积极进军航空、航天、燃气轮机及石油等高端领域,提供包括航空、航天紧固件、涡轮盘、机匣、燃烧室精密钣金焊接部件、金属封严环等在内的多样化产品,打造飞沃科技第二增长曲线,为公司的持续发展注入新动力。飞沃科技拥有业界领先的技术研发和生产制造能力,建立了“湖南省高强度紧固件智能制造工程技术研究中心”,并荣获“省级创新创业团队”称号。公司已获得国家各类发明、专利及软件著作权近百项,并参与制订了多项国家和行业标准。此外,公司还荣获了国家工信部“智能制造试点示范企业”、首批“专精特新小巨人企业”、“制造业单项冠军”以及“湖南省第七届省长质量奖”等众多殊荣。飞沃科技始终坚持以科技创新为核心驱动力,秉承“为中国做好一颗螺丝钉”的企业使命,致力于成为全球领先的高强度紧固系统方案提供商,与国内同行一起推动中国高端制造业的高质量发展!\"\u001b[39m,\n",
       "        BUSINESS_SCOPE: \u001b[32m\"许可项目:检验检测服务(依法须经批准的项目,经相关部门批准后方可开展经营活动,具体经营项目以相关部门批准文件或许可证件为准)一般项目:紧固件制造;紧固件销售;机械零件、零部件加工;机械零件、零部件销售;通用设备制造(不含特种设备制造);新能源原动设备制造;金属加工机械制造;金属表面处理及热处理加工;金属材料销售;技术服务、技术开发、技术咨询、技术交流、技术转让、技术推广;货物进出口(除依法须经批准的项目外,凭营业执照依法自主开展经营活动)\"\u001b[39m,\n",
       "        TRADE_MARKETT: \u001b[32m\"深交所创业板\"\u001b[39m,\n",
       "        TRADE_MARKET_CODE: \u001b[32m\"069001002002\"\u001b[39m,\n",
       "        SECURITY_TYPEE: \u001b[32m\"A股\"\u001b[39m,\n",
       "        SECURITY_TYPE_CODE: \u001b[32m\"058001001\"\u001b[39m,\n",
       "        EXPAND_NAME_ABBRN: \u001b[1mnull\u001b[22m,\n",
       "        EXPAND_NAME_PINYIN: \u001b[1mnull\u001b[22m,\n",
       "        EXPAND_NAME_ABBR: \u001b[1mnull\u001b[22m,\n",
       "        LISTING_DATE: \u001b[32m\"2023-06-15 00:00:00\"\u001b[39m,\n",
       "        FOUND_DATE: \u001b[32m\"2012-07-20 00:00:00\"\u001b[39m,\n",
       "        MAIN_BUSINESS: \u001b[32m\"高强度紧固件研发、制造及为客户提供整体紧固系统解决方案\"\u001b[39m,\n",
       "        HOST_BROKER: \u001b[1mnull\u001b[22m,\n",
       "        TRANSFER_WAY: \u001b[1mnull\u001b[22m,\n",
       "        ACTUAL_HOLDER: \u001b[32m\"张友君\"\u001b[39m,\n",
       "        MARKETING_START_DATE: \u001b[1mnull\u001b[22m,\n",
       "        MARKET_MAKER: \u001b[1mnull\u001b[22m,\n",
       "        TRADE_MARKET_TYPE: \u001b[1mnull\u001b[22m,\n",
       "        CURRENCY: \u001b[32m\"人民币\"\u001b[39m\n",
       "      }\n",
       "    ],\n",
       "    count: \u001b[33m1\u001b[39m\n",
       "  },\n",
       "  success: \u001b[33mtrue\u001b[39m,\n",
       "  message: \u001b[32m\"ok\"\u001b[39m,\n",
       "  code: \u001b[33m0\u001b[39m\n",
       "}"
      ]
     },
     "execution_count": 1,
     "metadata": {},
     "output_type": "execute_result"
    }
   ],
   "source": [
    "// 浏览器原始请求\n",
    "await fetch(\n",
    "  \"https://datacenter.eastmoney.com/securities/api/data/v1/get?reportName=RPT_F10_BASIC_ORGINFO&columns=ALL&quoteColumns=&filter=(SECUCODE%3D%22301232.SZ%22)&pageNumber=1&pageSize=1&sortTypes=&sortColumns=&source=HSF10&client=PC&v=08415533882391942\",\n",
    "  {\n",
    "    \"credentials\": \"omit\",\n",
    "    \"headers\": {\n",
    "      \"User-Agent\":\n",
    "      \"Mozilla/5.0 (X11; Linux x86_64; rv:143.0) Gecko/20100101 Firefox/143.0\",\n",
    "      \"Accept\": \"*/*\",\n",
    "      \"Accept-Language\": \"en-US,en;q=0.5\",\n",
    "      \"Sec-Fetch-Dest\": \"empty\",\n",
    "      \"Sec-Fetch-Mode\": \"cors\",\n",
    "      \"Sec-Fetch-Site\": \"same-site\",\n",
    "    },\n",
    "    \"referrer\": \"https://emweb.securities.eastmoney.com/\",\n",
    "    \"method\": \"GET\",\n",
    "    \"mode\": \"cors\",\n",
    "  },\n",
    ").then(r => r.json());"
   ]
  },
  {
   "cell_type": "markdown",
   "id": "bb096c7f-b2c4-4c41-ba0e-0b3b0cd3cfe6",
   "metadata": {},
   "source": [
    "### 接口裁剪\n",
    "\n",
    "裁剪多余不要参数。\n",
    "\n",
    "经过测试发现：该接口不需要 URL 之外的任何验证信息，如下："
   ]
  },
  {
   "cell_type": "code",
   "execution_count": 2,
   "id": "22c67e56-64d2-4823-99a4-88f0cfbafb00",
   "metadata": {},
   "outputs": [
    {
     "data": {
      "text/plain": [
       "{\n",
       "  version: \u001b[32m\"5eb211e4417313474e474763000b3605\"\u001b[39m,\n",
       "  result: {\n",
       "    pages: \u001b[33m1\u001b[39m,\n",
       "    data: [\n",
       "      {\n",
       "        SECUCODE: \u001b[32m\"301232.SZ\"\u001b[39m,\n",
       "        SECURITY_CODE: \u001b[32m\"301232\"\u001b[39m,\n",
       "        SECURITY_NAME_ABBR: \u001b[32m\"飞沃科技\"\u001b[39m,\n",
       "        ORG_CODE: \u001b[32m\"10439816\"\u001b[39m,\n",
       "        ORG_NAME: \u001b[32m\"湖南飞沃新能源科技股份有限公司\"\u001b[39m,\n",
       "        ORG_NAME_EN: \u001b[32m\"Finework(HuNan) NewEnergyTechnologyCo.,Ltd.\"\u001b[39m,\n",
       "        FORMERNAME: \u001b[1mnull\u001b[22m,\n",
       "        STR_CODEA: \u001b[32m\"301232\"\u001b[39m,\n",
       "        STR_NAMEA: \u001b[32m\"飞沃科技\"\u001b[39m,\n",
       "        STR_CODEB: \u001b[1mnull\u001b[22m,\n",
       "        STR_NAMEB: \u001b[1mnull\u001b[22m,\n",
       "        STR_CODEH: \u001b[1mnull\u001b[22m,\n",
       "        STR_NAMEH: \u001b[1mnull\u001b[22m,\n",
       "        SECURITY_TYPE: \u001b[32m\"深交所创业板A股\"\u001b[39m,\n",
       "        EM2016: \u001b[32m\"机械设备-金属制品-金属制品\"\u001b[39m,\n",
       "        TRADE_MARKET: \u001b[32m\"深圳证券交易所\"\u001b[39m,\n",
       "        INDUSTRYCSRC1: \u001b[32m\"制造业-通用设备制造业\"\u001b[39m,\n",
       "        PRESIDENT: \u001b[32m\"刘杰\"\u001b[39m,\n",
       "        LEGAL_PERSON: \u001b[32m\"张友君\"\u001b[39m,\n",
       "        SECRETARY: \u001b[32m\"刘志军\"\u001b[39m,\n",
       "        CHAIRMAN: \u001b[32m\"张友君\"\u001b[39m,\n",
       "        SECPRESENT: \u001b[32m\"陈柯臻\"\u001b[39m,\n",
       "        INDEDIRECTORS: \u001b[32m\"单飞跃,夏劲松,张雷\"\u001b[39m,\n",
       "        ORG_TEL: \u001b[32m\"0736-6689769\"\u001b[39m,\n",
       "        ORG_EMAIL: \u001b[32m\"fwdongmiban@shfinework.cn\"\u001b[39m,\n",
       "        ORG_FAX: \u001b[32m\"0736-6676869\"\u001b[39m,\n",
       "        ORG_WEB: \u001b[32m\"www.shfinework.cn\"\u001b[39m,\n",
       "        ADDRESS: \u001b[32m\"湖南省常德市桃源县陬市镇东新路\"\u001b[39m,\n",
       "        REG_ADDRESS: \u001b[32m\"常德市桃源县陬市镇观音桥村二组(大华工业园内)\"\u001b[39m,\n",
       "        PROVINCE: \u001b[32m\"湖南\"\u001b[39m,\n",
       "        ADDRESS_POSTCODE: \u001b[32m\"415701\"\u001b[39m,\n",
       "        REG_CAPITAL: \u001b[33m7516.2347\u001b[39m,\n",
       "        REG_NUM: \u001b[32m\"914307255994397053\"\u001b[39m,\n",
       "        EMP_NUM: \u001b[33m2222\u001b[39m,\n",
       "        TATOLNUMBER: \u001b[33m15\u001b[39m,\n",
       "        LAW_FIRM: \u001b[32m\"湖南启元律师事务所\"\u001b[39m,\n",
       "        ACCOUNTFIRM_NAME: \u001b[32m\"天健会计师事务所(特殊普通合伙)\"\u001b[39m,\n",
       "        ORG_PROFILE: \u001b[32m\"    湖南飞沃新能源科技股份有限公司(简称“飞沃科技”,股票代码:301232),成立于2012年,是一家专注于高端高强度紧固件研发与制造,并提供紧固系统解决方案的国家高新技术企业。产品广泛应用于风电、航空航天、燃气轮机、石油、汽车、高铁及工程机械等高端装备领域。飞沃科技生产的风机叶片预埋螺套、机舱螺栓、塔筒螺栓、锚栓组件等风电全系列紧固件,已经成为全球风电紧固件行业龙头企业。同时,公司不断拓宽业务,积极进军航空、航天、燃气轮机及石油等高端领域,提供包括航空、航天紧固件、涡轮盘、机匣、燃烧室精密钣金焊接部件、金属封严环等在内的多样化产品,打造飞沃科技第二增长曲线,为公司的持续发展注入新动力。飞沃科技拥有业界领先的技术研发和生产制造能力,建立了“湖南省高强度紧固件智能制造工程技术研究中心”,并荣获“省级创新创业团队”称号。公司已获得国家各类发明、专利及软件著作权近百项,并参与制订了多项国家和行业标准。此外,公司还荣获了国家工信部“智能制造试点示范企业”、首批“专精特新小巨人企业”、“制造业单项冠军”以及“湖南省第七届省长质量奖”等众多殊荣。飞沃科技始终坚持以科技创新为核心驱动力,秉承“为中国做好一颗螺丝钉”的企业使命,致力于成为全球领先的高强度紧固系统方案提供商,与国内同行一起推动中国高端制造业的高质量发展!\"\u001b[39m,\n",
       "        BUSINESS_SCOPE: \u001b[32m\"许可项目:检验检测服务(依法须经批准的项目,经相关部门批准后方可开展经营活动,具体经营项目以相关部门批准文件或许可证件为准)一般项目:紧固件制造;紧固件销售;机械零件、零部件加工;机械零件、零部件销售;通用设备制造(不含特种设备制造);新能源原动设备制造;金属加工机械制造;金属表面处理及热处理加工;金属材料销售;技术服务、技术开发、技术咨询、技术交流、技术转让、技术推广;货物进出口(除依法须经批准的项目外,凭营业执照依法自主开展经营活动)\"\u001b[39m,\n",
       "        TRADE_MARKETT: \u001b[32m\"深交所创业板\"\u001b[39m,\n",
       "        TRADE_MARKET_CODE: \u001b[32m\"069001002002\"\u001b[39m,\n",
       "        SECURITY_TYPEE: \u001b[32m\"A股\"\u001b[39m,\n",
       "        SECURITY_TYPE_CODE: \u001b[32m\"058001001\"\u001b[39m,\n",
       "        EXPAND_NAME_ABBRN: \u001b[1mnull\u001b[22m,\n",
       "        EXPAND_NAME_PINYIN: \u001b[1mnull\u001b[22m,\n",
       "        EXPAND_NAME_ABBR: \u001b[1mnull\u001b[22m,\n",
       "        LISTING_DATE: \u001b[32m\"2023-06-15 00:00:00\"\u001b[39m,\n",
       "        FOUND_DATE: \u001b[32m\"2012-07-20 00:00:00\"\u001b[39m,\n",
       "        MAIN_BUSINESS: \u001b[32m\"高强度紧固件研发、制造及为客户提供整体紧固系统解决方案\"\u001b[39m,\n",
       "        HOST_BROKER: \u001b[1mnull\u001b[22m,\n",
       "        TRANSFER_WAY: \u001b[1mnull\u001b[22m,\n",
       "        ACTUAL_HOLDER: \u001b[32m\"张友君\"\u001b[39m,\n",
       "        MARKETING_START_DATE: \u001b[1mnull\u001b[22m,\n",
       "        MARKET_MAKER: \u001b[1mnull\u001b[22m,\n",
       "        TRADE_MARKET_TYPE: \u001b[1mnull\u001b[22m,\n",
       "        CURRENCY: \u001b[32m\"人民币\"\u001b[39m\n",
       "      }\n",
       "    ],\n",
       "    count: \u001b[33m1\u001b[39m\n",
       "  },\n",
       "  success: \u001b[33mtrue\u001b[39m,\n",
       "  message: \u001b[32m\"ok\"\u001b[39m,\n",
       "  code: \u001b[33m0\u001b[39m\n",
       "}"
      ]
     },
     "execution_count": 2,
     "metadata": {},
     "output_type": "execute_result"
    }
   ],
   "source": [
    "// 裁剪请求\n",
    "const response = await fetch(\n",
    "  \"https://datacenter.eastmoney.com/securities/api/data/v1/get?reportName=RPT_F10_BASIC_ORGINFO&columns=ALL&quoteColumns=&filter=(SECUCODE%3D%22301232.SZ%22)&pageNumber=1&pageSize=1&sortTypes=&sortColumns=&source=HSF10&client=PC&v=08415533882391942\",\n",
    ");\n",
    "const json = await response.json()\n",
    "json"
   ]
  },
  {
   "cell_type": "markdown",
   "id": "678a6372-5314-4645-bcb7-396123412b2a",
   "metadata": {},
   "source": [
    "### URL 参数分析"
   ]
  },
  {
   "cell_type": "code",
   "execution_count": 3,
   "id": "94a29a7d-944d-42a5-a79b-0a2786896e42",
   "metadata": {},
   "outputs": [],
   "source": [
    "const url = new URL(\"https://datacenter.eastmoney.com/securities/api/data/v1/get?reportName=RPT_F10_BASIC_ORGINFO&columns=ALL&quoteColumns=&filter=(SECUCODE%3D%22301232.SZ%22)&pageNumber=1&pageSize=1&sortTypes=&sortColumns=&source=HSF10&client=PC&v=08415533882391942\")"
   ]
  },
  {
   "cell_type": "code",
   "execution_count": 4,
   "id": "afb9e6a6-ead1-4fe1-9434-391e7b92967c",
   "metadata": {},
   "outputs": [
    {
     "data": {
      "text/plain": [
       "\u001b[32m\"datacenter.eastmoney.com\"\u001b[39m"
      ]
     },
     "execution_count": 4,
     "metadata": {},
     "output_type": "execute_result"
    }
   ],
   "source": [
    "url.host"
   ]
  },
  {
   "cell_type": "code",
   "execution_count": 5,
   "id": "a26af7bd-87e8-4262-b6a6-7b995ce1cc75",
   "metadata": {},
   "outputs": [
    {
     "data": {
      "text/plain": [
       "\u001b[32m\"/securities/api/data/v1/get\"\u001b[39m"
      ]
     },
     "execution_count": 5,
     "metadata": {},
     "output_type": "execute_result"
    }
   ],
   "source": [
    "url.pathname"
   ]
  },
  {
   "cell_type": "code",
   "execution_count": 6,
   "id": "ea0972b0-0042-497c-a677-7a8b69be0ce7",
   "metadata": {},
   "outputs": [
    {
     "data": {
      "text/plain": [
       "[\n",
       "  [ \u001b[32m\"reportName\"\u001b[39m, \u001b[32m\"RPT_F10_BASIC_ORGINFO\"\u001b[39m ],\n",
       "  [ \u001b[32m\"columns\"\u001b[39m, \u001b[32m\"ALL\"\u001b[39m ],\n",
       "  [ \u001b[32m\"quoteColumns\"\u001b[39m, \u001b[32m\"\"\u001b[39m ],\n",
       "  [ \u001b[32m\"filter\"\u001b[39m, \u001b[32m'(SECUCODE=\"301232.SZ\")'\u001b[39m ],\n",
       "  [ \u001b[32m\"pageNumber\"\u001b[39m, \u001b[32m\"1\"\u001b[39m ],\n",
       "  [ \u001b[32m\"pageSize\"\u001b[39m, \u001b[32m\"1\"\u001b[39m ],\n",
       "  [ \u001b[32m\"sortTypes\"\u001b[39m, \u001b[32m\"\"\u001b[39m ],\n",
       "  [ \u001b[32m\"sortColumns\"\u001b[39m, \u001b[32m\"\"\u001b[39m ],\n",
       "  [ \u001b[32m\"source\"\u001b[39m, \u001b[32m\"HSF10\"\u001b[39m ],\n",
       "  [ \u001b[32m\"client\"\u001b[39m, \u001b[32m\"PC\"\u001b[39m ],\n",
       "  [ \u001b[32m\"v\"\u001b[39m, \u001b[32m\"08415533882391942\"\u001b[39m ]\n",
       "]"
      ]
     },
     "execution_count": 6,
     "metadata": {},
     "output_type": "execute_result"
    }
   ],
   "source": [
    "Array.from(url.searchParams)"
   ]
  },
  {
   "cell_type": "markdown",
   "id": "2d72100e-13d2-4a94-9774-e6bd52edaa77",
   "metadata": {
    "jp-MarkdownHeadingCollapsed": true
   },
   "source": [
    "接口本身 URL 较为复杂，拆解如下：\n",
    "\n",
    "\n",
    "|段|值|注|\n",
    "|---|---|---|\n",
    "|`host`|`datacenter.eastmoney.com`|数据中心|\n",
    "|`pathname`|`securities/api/data/v1/get`|股票数据接口 v1 公开 GET 请求|\n",
    "|reportName|`RPT_F10_BASIC_ORGINFO`|报告名称（RPT_F10_基本_公司资料）|\n",
    "|columns|`ALL`|选取所有列|\n",
    "|quoteColumns||无需改动|\n",
    "|filter|`(SECUCODE=\"301232.SZ\")`|过滤股票代码（拓展代码）|\n",
    "|pageNumber|`1`|页码，无需改动|\n",
    "|pageSize|`1`|页面大小，无需改动|\n",
    "|sortTypes||排序类型，无需改动|\n",
    "|sortColumns||列排序，无需改动|\n",
    "|source|`HSF10`|无需改动|\n",
    "|client|`PC`|客户端为电脑|\n",
    "|v|`08415533882391942`|未知，经测试没有也不要紧|"
   ]
  },
  {
   "cell_type": "markdown",
   "id": "782addda-7629-40de-835d-e22a01d15b9f",
   "metadata": {},
   "source": [
    "## 结果分析\n",
    "\n",
    "手动将结果与页面内容匹配"
   ]
  },
  {
   "cell_type": "code",
   "execution_count": 7,
   "id": "5a804cfc-92fa-4aa4-a811-d63a63488299",
   "metadata": {},
   "outputs": [
    {
     "data": {
      "text/plain": [
       "{\n",
       "  SECUCODE: \u001b[32m\"301232.SZ\"\u001b[39m,\n",
       "  SECURITY_CODE: \u001b[32m\"301232\"\u001b[39m,\n",
       "  SECURITY_NAME_ABBR: \u001b[32m\"飞沃科技\"\u001b[39m,\n",
       "  ORG_CODE: \u001b[32m\"10439816\"\u001b[39m,\n",
       "  ORG_NAME: \u001b[32m\"湖南飞沃新能源科技股份有限公司\"\u001b[39m,\n",
       "  ORG_NAME_EN: \u001b[32m\"Finework(HuNan) NewEnergyTechnologyCo.,Ltd.\"\u001b[39m,\n",
       "  FORMERNAME: \u001b[1mnull\u001b[22m,\n",
       "  STR_CODEA: \u001b[32m\"301232\"\u001b[39m,\n",
       "  STR_NAMEA: \u001b[32m\"飞沃科技\"\u001b[39m,\n",
       "  STR_CODEB: \u001b[1mnull\u001b[22m,\n",
       "  STR_NAMEB: \u001b[1mnull\u001b[22m,\n",
       "  STR_CODEH: \u001b[1mnull\u001b[22m,\n",
       "  STR_NAMEH: \u001b[1mnull\u001b[22m,\n",
       "  SECURITY_TYPE: \u001b[32m\"深交所创业板A股\"\u001b[39m,\n",
       "  EM2016: \u001b[32m\"机械设备-金属制品-金属制品\"\u001b[39m,\n",
       "  TRADE_MARKET: \u001b[32m\"深圳证券交易所\"\u001b[39m,\n",
       "  INDUSTRYCSRC1: \u001b[32m\"制造业-通用设备制造业\"\u001b[39m,\n",
       "  PRESIDENT: \u001b[32m\"刘杰\"\u001b[39m,\n",
       "  LEGAL_PERSON: \u001b[32m\"张友君\"\u001b[39m,\n",
       "  SECRETARY: \u001b[32m\"刘志军\"\u001b[39m,\n",
       "  CHAIRMAN: \u001b[32m\"张友君\"\u001b[39m,\n",
       "  SECPRESENT: \u001b[32m\"陈柯臻\"\u001b[39m,\n",
       "  INDEDIRECTORS: \u001b[32m\"单飞跃,夏劲松,张雷\"\u001b[39m,\n",
       "  ORG_TEL: \u001b[32m\"0736-6689769\"\u001b[39m,\n",
       "  ORG_EMAIL: \u001b[32m\"fwdongmiban@shfinework.cn\"\u001b[39m,\n",
       "  ORG_FAX: \u001b[32m\"0736-6676869\"\u001b[39m,\n",
       "  ORG_WEB: \u001b[32m\"www.shfinework.cn\"\u001b[39m,\n",
       "  ADDRESS: \u001b[32m\"湖南省常德市桃源县陬市镇东新路\"\u001b[39m,\n",
       "  REG_ADDRESS: \u001b[32m\"常德市桃源县陬市镇观音桥村二组(大华工业园内)\"\u001b[39m,\n",
       "  PROVINCE: \u001b[32m\"湖南\"\u001b[39m,\n",
       "  ADDRESS_POSTCODE: \u001b[32m\"415701\"\u001b[39m,\n",
       "  REG_CAPITAL: \u001b[33m7516.2347\u001b[39m,\n",
       "  REG_NUM: \u001b[32m\"914307255994397053\"\u001b[39m,\n",
       "  EMP_NUM: \u001b[33m2222\u001b[39m,\n",
       "  TATOLNUMBER: \u001b[33m15\u001b[39m,\n",
       "  LAW_FIRM: \u001b[32m\"湖南启元律师事务所\"\u001b[39m,\n",
       "  ACCOUNTFIRM_NAME: \u001b[32m\"天健会计师事务所(特殊普通合伙)\"\u001b[39m,\n",
       "  ORG_PROFILE: \u001b[32m\"    湖南飞沃新能源科技股份有限公司(简称“飞沃科技”,股票代码:301232),成立于2012年,是一家专注于高端高强度紧固件研发与制造,并提供紧固系统解决方案的国家高新技术企业。产品广泛应用于风电、航空航天、燃气轮机、石油、汽车、高铁及工程机械等高端装备领域。飞沃科技生产的风机叶片预埋螺套、机舱螺栓、塔筒螺栓、锚栓组件等风电全系列紧固件,已经成为全球风电紧固件行业龙头企业。同时,公司不断拓宽业务,积极进军航空、航天、燃气轮机及石油等高端领域,提供包括航空、航天紧固件、涡轮盘、机匣、燃烧室精密钣金焊接部件、金属封严环等在内的多样化产品,打造飞沃科技第二增长曲线,为公司的持续发展注入新动力。飞沃科技拥有业界领先的技术研发和生产制造能力,建立了“湖南省高强度紧固件智能制造工程技术研究中心”,并荣获“省级创新创业团队”称号。公司已获得国家各类发明、专利及软件著作权近百项,并参与制订了多项国家和行业标准。此外,公司还荣获了国家工信部“智能制造试点示范企业”、首批“专精特新小巨人企业”、“制造业单项冠军”以及“湖南省第七届省长质量奖”等众多殊荣。飞沃科技始终坚持以科技创新为核心驱动力,秉承“为中国做好一颗螺丝钉”的企业使命,致力于成为全球领先的高强度紧固系统方案提供商,与国内同行一起推动中国高端制造业的高质量发展!\"\u001b[39m,\n",
       "  BUSINESS_SCOPE: \u001b[32m\"许可项目:检验检测服务(依法须经批准的项目,经相关部门批准后方可开展经营活动,具体经营项目以相关部门批准文件或许可证件为准)一般项目:紧固件制造;紧固件销售;机械零件、零部件加工;机械零件、零部件销售;通用设备制造(不含特种设备制造);新能源原动设备制造;金属加工机械制造;金属表面处理及热处理加工;金属材料销售;技术服务、技术开发、技术咨询、技术交流、技术转让、技术推广;货物进出口(除依法须经批准的项目外,凭营业执照依法自主开展经营活动)\"\u001b[39m,\n",
       "  TRADE_MARKETT: \u001b[32m\"深交所创业板\"\u001b[39m,\n",
       "  TRADE_MARKET_CODE: \u001b[32m\"069001002002\"\u001b[39m,\n",
       "  SECURITY_TYPEE: \u001b[32m\"A股\"\u001b[39m,\n",
       "  SECURITY_TYPE_CODE: \u001b[32m\"058001001\"\u001b[39m,\n",
       "  EXPAND_NAME_ABBRN: \u001b[1mnull\u001b[22m,\n",
       "  EXPAND_NAME_PINYIN: \u001b[1mnull\u001b[22m,\n",
       "  EXPAND_NAME_ABBR: \u001b[1mnull\u001b[22m,\n",
       "  LISTING_DATE: \u001b[32m\"2023-06-15 00:00:00\"\u001b[39m,\n",
       "  FOUND_DATE: \u001b[32m\"2012-07-20 00:00:00\"\u001b[39m,\n",
       "  MAIN_BUSINESS: \u001b[32m\"高强度紧固件研发、制造及为客户提供整体紧固系统解决方案\"\u001b[39m,\n",
       "  HOST_BROKER: \u001b[1mnull\u001b[22m,\n",
       "  TRANSFER_WAY: \u001b[1mnull\u001b[22m,\n",
       "  ACTUAL_HOLDER: \u001b[32m\"张友君\"\u001b[39m,\n",
       "  MARKETING_START_DATE: \u001b[1mnull\u001b[22m,\n",
       "  MARKET_MAKER: \u001b[1mnull\u001b[22m,\n",
       "  TRADE_MARKET_TYPE: \u001b[1mnull\u001b[22m,\n",
       "  CURRENCY: \u001b[32m\"人民币\"\u001b[39m\n",
       "}"
      ]
     },
     "execution_count": 7,
     "metadata": {},
     "output_type": "execute_result"
    }
   ],
   "source": [
    "json[\"result\"][\"data\"][0]"
   ]
  },
  {
   "cell_type": "markdown",
   "id": "a510caa5-32e8-4161-a9ab-3186c72a9b64",
   "metadata": {},
   "source": [
    "|数据字段|网页字段|类型|注|\n",
    "|---|---|---|---|\n",
    "|SECUCODE||||\n",
    "|SECURITY_CODE||||\n",
    "|SECURITY_NAME_ABBR||||\n",
    "|ORG_CODE||||\n",
    "|ORG_NAME|公司名称|`String`||\n",
    "|ORG_NAME_EN|英文名称|`String`||\n",
    "|FORMERNAME|曾用名|`Option<String>`||\n",
    "|STR_CODEA|A股代码|`Option<String>`||\n",
    "|STR_NAMEA|A股名称|`Option<String>`||\n",
    "|STR_CODEB|B股代码|`Option<String>`||\n",
    "|STR_NAMEB|B股名称|`Option<String>`||\n",
    "|STR_CODEH|H股代码|`Option<String>`||\n",
    "|STR_NAMEH|H股名称|`Option<String>`||\n",
    "|SECURITY_TYPE|证券类别|`String`||\n",
    "|EM2016|所属东财行业|`String`||\n",
    "|TRADE_MARKET|上市交易所|`String`||\n",
    "|INDUSTRYCSRC1|所属证监会行业|`String`||\n",
    "|PRESIDENT|总经理|`String`||\n",
    "|LEGAL_PERSON|法人代表|`String`||\n",
    "|SECRETARY|董秘|`String`||\n",
    "|CHAIRMAN|董事长|`String`||\n",
    "|SECPRESENT|证券事务代表|`String`||\n",
    "|INDEDIRECTORS|独立董事|`String`||\n",
    "|ORG_TEL|联系电话|`String`||\n",
    "|ORG_EMAIL|电子信箱|`String`||\n",
    "|ORG_FAX|传真|`String`||\n",
    "|ORG_WEB|公司网址|`String`||\n",
    "|ADDRESS|办公地址|`String`||\n",
    "|REG_ADDRESS|注册地址|`String`||\n",
    "|PROVINCE|区域|`String`||\n",
    "|ADDRESS_POSTCODE|邮政编码|`String`||\n",
    "|REG_CAPITAL|注册资本(元)|`f64`|暂不确定单位一定是元，可能要看 `CURRENCY`|\n",
    "|REG_NUM|工商登记|`String`||\n",
    "|EMP_NUM|雇员人数|`u64`||\n",
    "|TATOLNUMBER|管理人员人数|`u64`||\n",
    "|LAW_FIRM|律师事务所|`String`||\n",
    "|ACCOUNTFIRM_NAME|会计师事务所|`String`||\n",
    "|ORG_PROFILE|公司简介|`String`||\n",
    "|BUSINESS_SCOPE|经营范围|`String`||\n",
    "|TRADE_MARKETT||||\n",
    "|TRADE_MARKET_CODE||||\n",
    "|SECURITY_TYPEE||||\n",
    "|SECURITY_TYPE_CODE||||\n",
    "|EXPAND_NAME_ABBRN||||\n",
    "|EXPAND_NAME_PINYIN||||\n",
    "|EXPAND_NAME_ABBR||||\n",
    "|LISTING_DATE||||\n",
    "|FOUND_DATE||||\n",
    "|MAIN_BUSINESS||||\n",
    "|HOST_BROKER||||\n",
    "|TRANSFER_WAY||||\n",
    "|ACTUAL_HOLDER||||\n",
    "|MARKETING_START_DATE||||\n",
    "|MARKET_MAKER||||\n",
    "|TRADE_MARKET_TYPE||||\n",
    "|CURRENCY||||"
   ]
  }
 ],
 "metadata": {
  "kernelspec": {
   "display_name": "Deno",
   "language": "typescript",
   "name": "deno"
  },
  "language_info": {
   "codemirror_mode": "typescript",
   "file_extension": ".ts",
   "mimetype": "text/x.typescript",
   "name": "typescript",
   "nbconvert_exporter": "script",
   "pygments_lexer": "typescript",
   "version": "5.8.3"
  }
 },
 "nbformat": 4,
 "nbformat_minor": 5
}
